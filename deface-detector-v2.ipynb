{
 "cells": [
  {
   "cell_type": "markdown",
   "metadata": {},
   "source": [
    "# Deface Detector - V2"
   ]
  },
  {
   "cell_type": "code",
   "execution_count": 2,
   "metadata": {},
   "outputs": [],
   "source": [
    "import cv2\n",
    "import numpy as np\n",
    "import os\n",
    "import nibabel as nib\n",
    "import matplotlib.pyplot as plt\n",
    "import random\n",
    "import time"
   ]
  },
  {
   "cell_type": "code",
   "execution_count": 3,
   "metadata": {},
   "outputs": [],
   "source": [
    "class FileLoader:\n",
    "    '''Extracts necessary files to generate dataset,\n",
    "    and handles splitting the files for training and testing'''\n",
    "    \n",
    "    def __init__(self, path):\n",
    "        self.path = path\n",
    "        self.image_files = list()\n",
    "        self._load_files(self.path)\n",
    "        \n",
    "    def _load_files(self, path):\n",
    "        '''Recursively goes into the path to extract all NIFTI image filenames (relative to path). \n",
    "        Defaced and Undefaced MRI images are treated alike.'''\n",
    "    \n",
    "        if path.endswith('nii.gz'):\n",
    "            self.image_files.append(path)\n",
    "        elif os.path.isdir(path):\n",
    "            for file in os.listdir(path):\n",
    "                self._load_files(os.path.join(path,file))\n",
    "            \n",
    "    def train_test_split(self, split=0.8, shuffle=True):\n",
    "        '''Shuffles, splits and returns train and test set as filenames'''\n",
    "        \n",
    "        if shuffle:\n",
    "            random.shuffle(self.image_files)\n",
    "            \n",
    "        split_index = int(split*len(self.image_files))\n",
    "        train_files = self.image_files[:split_index]\n",
    "        test_files = self.image_files[split_index:]\n",
    "        \n",
    "        return train_files, test_files\n",
    "        "
   ]
  },
  {
   "cell_type": "code",
   "execution_count": 8,
   "metadata": {},
   "outputs": [
    {
     "name": "stdout",
     "output_type": "stream",
     "text": [
      "Total Number of Images : 38\n"
     ]
    }
   ],
   "source": [
    "# Recursively extracts relevant filenames from the path specified\n",
    "\n",
    "path = '../mri_data/small_set'\n",
    "\n",
    "file_loader = FileLoader(path)\n",
    "\n",
    "print('Total Number of Images :', len(file_loader.image_files))"
   ]
  },
  {
   "cell_type": "code",
   "execution_count": 9,
   "metadata": {},
   "outputs": [
    {
     "name": "stdout",
     "output_type": "stream",
     "text": [
      "Number of train images : 30\n",
      "Number of test images : 8\n"
     ]
    }
   ],
   "source": [
    "# Shuffles and splits the image files into train and validation set\n",
    "\n",
    "train_files, test_files = file_loader.train_test_split(split=0.8, shuffle=True)\n",
    "\n",
    "print('Number of train images :', len(train_files))\n",
    "print('Number of test images :', len(test_files))"
   ]
  },
  {
   "cell_type": "code",
   "execution_count": 10,
   "metadata": {},
   "outputs": [],
   "source": [
    "class Cache:\n",
    "    '''A cache to store the train and validation datasets which are transformed to a trainable format'''\n",
    "    \n",
    "    def __init__(self, files, batch_size, verbose=0):\n",
    "        self.files = files\n",
    "        self.batch_size = batch_size\n",
    "        self.verbose = verbose\n",
    "        self.dim_0 = np.empty(len(train_files), dtype=object)\n",
    "        self.dim_1 = np.empty(len(train_files), dtype=object)\n",
    "        self.dim_2 = np.empty(len(train_files), dtype=object)\n",
    "        self.y = list()\n",
    "        self._read_images()\n",
    "        \n",
    "    def read_mri_image(self, filename):\n",
    "        '''Utility function to read a single MRI image,\n",
    "        as a numpy array'''\n",
    "    \n",
    "        img = nib.load(filename)\n",
    "        return img.get_data()\n",
    "        \n",
    "    def _batch_read(self, files, start_index):\n",
    "        '''Reads MRI images batch by batch. All defaced images are identified by a \"deface\" in the file name. \n",
    "        This function was needed due to certain unknown errors in the GPU cluster'''\n",
    "        \n",
    "        i = start_index\n",
    "        \n",
    "        for f in files:            \n",
    "            img = self.read_mri_image(f)\n",
    "            \n",
    "            m0 = np.mean(img,axis=0)\n",
    "            m1 = np.mean(img,axis=1)\n",
    "            m2 = np.mean(img,axis=2)\n",
    "            \n",
    "            self.dim_0[i] = m0\n",
    "            self.dim_1[i] = m1\n",
    "            self.dim_2[i] = m2\n",
    "            \n",
    "            i+=1\n",
    "            \n",
    "            if 'deface' in f:\n",
    "                self.y.append(1)\n",
    "            else:\n",
    "                self.y.append(0) \n",
    "    \n",
    "    def _read_images(self):\n",
    "        start = time.time()\n",
    "        \n",
    "        for i in range(0,len(self.files),self.batch_size):\n",
    "            if i+self.batch_size > len(self.files):\n",
    "                self._batch_read(self.files[i:], i)\n",
    "                if self.verbose==1:\n",
    "                    print(len(self.files), \" Done\")\n",
    "            else:\n",
    "                self._batch_read(self.files[i:i+self.batch_size], i)\n",
    "                if self.verbose==1:\n",
    "                    print(i+self.batch_size, \" Done\")\n",
    "                    \n",
    "        if self.verbose==1:\n",
    "            print(\"Time Taken : \", time.time()-start)\n",
    "        "
   ]
  },
  {
   "cell_type": "code",
   "execution_count": 12,
   "metadata": {},
   "outputs": [
    {
     "name": "stdout",
     "output_type": "stream",
     "text": [
      "Loading Training Cache..\n",
      "20  Done\n",
      "30  Done\n",
      "Time Taken :  5.544640064239502\n",
      "Loading Testing Cache..\n",
      "8  Done\n",
      "Time Taken :  1.7390458583831787\n"
     ]
    }
   ],
   "source": [
    "# Acts as a cache for dataset\n",
    "print('Loading Training Cache..')\n",
    "train_cache = Cache(train_files, 20, verbose=1)\n",
    "print('Loading Testing Cache..')\n",
    "test_cache = Cache(test_files, 20, verbose=1)"
   ]
  },
  {
   "cell_type": "code",
   "execution_count": 15,
   "metadata": {},
   "outputs": [
    {
     "name": "stderr",
     "output_type": "stream",
     "text": [
      "Using TensorFlow backend.\n"
     ]
    }
   ],
   "source": [
    "import imgaug as ia\n",
    "from imgaug import augmenters as iaa\n",
    "from keras import layers, models"
   ]
  },
  {
   "cell_type": "code",
   "execution_count": 22,
   "metadata": {},
   "outputs": [],
   "source": [
    "def _Conv_BN_RELU(x, filters=32, kernel=3, strides=1, padding='same'):\n",
    "    '''Helper to create a modular unit containing Convolution, BatchNormalizaton and Activation'''\n",
    "\n",
    "    x = layers.Conv2D(filters,kernel,strides=strides,padding=padding)(x)\n",
    "    x = layers.BatchNormalization()(x)\n",
    "    x = layers.Activation('relu')(x)\n",
    "    return x  \n",
    "\n",
    "def create_submodel():\n",
    "    '''The feature extracting submodel for which shares parameters'''\n",
    "\n",
    "    inp = layers.Input(shape=(None,None,1))\n",
    "\n",
    "    conv1 = _Conv_BN_RELU(inp, filters=8, kernel=5, strides=4, padding='same')\n",
    "\n",
    "    conv2 = _Conv_BN_RELU(conv1, filters=16, kernel=5, strides=1, padding='same')\n",
    "    conv2 = _Conv_BN_RELU(conv2, filters=16, kernel=2, strides=2, padding='same')\n",
    "\n",
    "    conv3 = _Conv_BN_RELU(conv2, filters=24, kernel=5, strides=1, padding='same')\n",
    "    conv3 = _Conv_BN_RELU(conv3, filters=24, kernel=2, strides=2, padding='same')\n",
    "\n",
    "    conv4 = _Conv_BN_RELU(conv2, filters=32, kernel=5, strides=1, padding='same')\n",
    "    conv4 = _Conv_BN_RELU(conv3, filters=32, kernel=2, strides=2, padding='same')\n",
    "\n",
    "    out = layers.GlobalAveragePooling2D()(conv4)\n",
    "\n",
    "    submodel = models.Model(inp,out)\n",
    "    \n",
    "    return submodel\n",
    "\n",
    "\n",
    "def create_model():\n",
    "    '''Assembles all the submodels into a unified single model'''\n",
    "\n",
    "    inp1 = layers.Input(shape=(None,None,1), name='input_1')\n",
    "    inp2 = layers.Input(shape=(None,None,1), name='input_2')\n",
    "    inp3 = layers.Input(shape=(None,None,1), name='input_3')\n",
    "\n",
    "    submodel = create_submodel()\n",
    "\n",
    "    one = submodel(inp1)\n",
    "    two = submodel(inp2)\n",
    "    three = submodel(inp3)\n",
    "\n",
    "    concat = layers.Concatenate()([one,two,three])\n",
    "    dropout = layers.Dropout(0.5)(concat)\n",
    "    out = layers.Dense(1,activation='sigmoid',name='output_node')(dropout)\n",
    "\n",
    "    model = models.Model(inputs=[inp1,inp2,inp3],outputs=out)\n",
    "\n",
    "    return model\n"
   ]
  },
  {
   "cell_type": "code",
   "execution_count": 23,
   "metadata": {
    "scrolled": true
   },
   "outputs": [
    {
     "name": "stdout",
     "output_type": "stream",
     "text": [
      "__________________________________________________________________________________________________\n",
      "Layer (type)                    Output Shape         Param #     Connected to                     \n",
      "==================================================================================================\n",
      "input_1 (InputLayer)            (None, None, None, 1 0                                            \n",
      "__________________________________________________________________________________________________\n",
      "input_2 (InputLayer)            (None, None, None, 1 0                                            \n",
      "__________________________________________________________________________________________________\n",
      "input_3 (InputLayer)            (None, None, None, 1 0                                            \n",
      "__________________________________________________________________________________________________\n",
      "model_1 (Model)                 (None, 32)           20000       input_1[0][0]                    \n",
      "                                                                 input_2[0][0]                    \n",
      "                                                                 input_3[0][0]                    \n",
      "__________________________________________________________________________________________________\n",
      "concatenate_1 (Concatenate)     (None, 96)           0           model_1[1][0]                    \n",
      "                                                                 model_1[2][0]                    \n",
      "                                                                 model_1[3][0]                    \n",
      "__________________________________________________________________________________________________\n",
      "dropout_1 (Dropout)             (None, 96)           0           concatenate_1[0][0]              \n",
      "__________________________________________________________________________________________________\n",
      "output_node (Dense)             (None, 1)            97          dropout_1[0][0]                  \n",
      "==================================================================================================\n",
      "Total params: 20,097\n",
      "Trainable params: 19,857\n",
      "Non-trainable params: 240\n",
      "__________________________________________________________________________________________________\n",
      "None\n"
     ]
    }
   ],
   "source": [
    "# Create and compile Keras model\n",
    "model = create_model()\n",
    "model.compile(loss='binary_crossentropy', optimizer='adam', metrics=['accuracy'])\n",
    "print(model.summary())"
   ]
  },
  {
   "cell_type": "code",
   "execution_count": 28,
   "metadata": {},
   "outputs": [],
   "source": [
    "def augment(images, target_size=None):\n",
    "    '''Function for augmenting MRI images while training, to increase generalization'''\n",
    "\n",
    "    sometimes = lambda aug : iaa.Sometimes(0.2,aug)\n",
    "\n",
    "    # The commented augmentations sometimes destroyed the image. Need to discuss which ones are appropriate here\n",
    "\n",
    "    seq = iaa.Sequential([\n",
    "        sometimes(iaa.GaussianBlur(sigma=(0.0,2.0))),\n",
    "#         sometimes(iaa.ContrastNormalization((0.9,1.1))),\n",
    "#         sometimes(iaa.Multiply((0.95,1.05))),\n",
    "#         iaa.Sharpen(alpha=(0, 0.5), lightness=(0.9, 1.1)),\n",
    "        iaa.Fliplr(0.5),\n",
    "        iaa.Flipud(0.5),\n",
    "\n",
    "        iaa.OneOf([\n",
    "            iaa.Affine(rotate=(90)),\n",
    "            iaa.Affine(rotate=(-90)),\n",
    "            iaa.Affine(rotate=(0))\n",
    "        ])\n",
    "    ])\n",
    "\n",
    "    float_images = []\n",
    "\n",
    "    if target_size:\n",
    "        for j in range(len(images)):\n",
    "            img = images[j]\n",
    "            float_images.append(cv2.resize(img.astype('float'), target_size))\n",
    "\n",
    "    seq_det = seq.to_deterministic()\n",
    "    aug_images = seq_det.augment_images(float_images)\n",
    "\n",
    "    aug_images = np.expand_dims(aug_images, axis=3)\n",
    "\n",
    "    return aug_images\n",
    "\n",
    "\n",
    "def generator(batch_size, train=True):\n",
    "    '''Generator for feeding the model while training'''\n",
    "\n",
    "    # The images are resized to one of the following images. As the network is an FCN, this is ace\n",
    "    sizes = [(64,64),(128,128),(192,192),(256,256)]\n",
    "\n",
    "    while True:\n",
    "\n",
    "        if train:\n",
    "            for i in range(0, len(train_files), batch_size):\n",
    "\n",
    "                batch_x_0 = augment(train_cache.dim_0[i:i+batch_size], target_size=random.choice(sizes))\n",
    "                batch_x_1 = augment(train_cache.dim_1[i:i+batch_size], target_size=random.choice(sizes))\n",
    "                batch_x_2 = augment(train_cache.dim_2[i:i+batch_size], target_size=random.choice(sizes))\n",
    "\n",
    "                batch_y = train_cache.y[i:i+batch_size]\n",
    "\n",
    "                yield ([batch_x_0, batch_x_1, batch_x_2], np.array(batch_y))\n",
    "\n",
    "        else:\n",
    "            for i in range(0, len(test_files), batch_size):\n",
    "\n",
    "                batch_x_0 = np.expand_dims([test_cache.dim_0[i].astype('float')], axis=3)\n",
    "                batch_x_1 = np.expand_dims([test_cache.dim_1[i].astype('float')], axis=3)\n",
    "                batch_x_2 = np.expand_dims([test_cache.dim_2[i].astype('float')], axis=3)\n",
    "\n",
    "                batch_y = test_cache.y[i:i+batch_size]\n",
    "\n",
    "                yield ([batch_x_0, batch_x_1, batch_x_2], np.array(batch_y))"
   ]
  },
  {
   "cell_type": "code",
   "execution_count": 29,
   "metadata": {
    "scrolled": true
   },
   "outputs": [
    {
     "name": "stdout",
     "output_type": "stream",
     "text": [
      "(64, 64, 1)\n"
     ]
    },
    {
     "data": {
      "image/png": "[encoded data removed]",
      "text/plain": [
       "<matplotlib.figure.Figure at 0x1156fb400>"
      ]
     },
     "metadata": {},
     "output_type": "display_data"
    },
    {
     "data": {
      "image/png": "[encoded data removed]",
      "text/plain": [
       "<matplotlib.figure.Figure at 0x113fcbb00>"
      ]
     },
     "metadata": {},
     "output_type": "display_data"
    },
    {
     "data": {
      "image/png": "[encoded data removed]",
      "text/plain": [
       "<matplotlib.figure.Figure at 0x110b95da0>"
      ]
     },
     "metadata": {},
     "output_type": "display_data"
    }
   ],
   "source": [
    "# Test to check generator\n",
    "\n",
    "g = generator(4)\n",
    "batch_x, batch_y = next(g)\n",
    "print(batch_x[1][2].shape)\n",
    "\n",
    "plt.imshow(np.squeeze(batch_x[0][0]), 'gray')\n",
    "plt.show()\n",
    "\n",
    "plt.imshow(np.squeeze(batch_x[1][0]), 'gray')\n",
    "plt.show()\n",
    "\n",
    "plt.imshow(np.squeeze(batch_x[2][0]), 'gray')\n",
    "plt.show()"
   ]
  },
  {
   "cell_type": "code",
   "execution_count": 30,
   "metadata": {},
   "outputs": [],
   "source": [
    "# Create necessary folders for logging and saving\n",
    "os.makedirs('models',exist_ok=True)\n",
    "os.makedirs('logs',exist_ok=True)"
   ]
  },
  {
   "cell_type": "code",
   "execution_count": 31,
   "metadata": {},
   "outputs": [
    {
     "name": "stdout",
     "output_type": "stream",
     "text": [
      "Epoch 1/1\n",
      "7/7 [==============================] - 1s 196ms/step - loss: 0.7634 - acc: 0.5000 - val_loss: 0.6689 - val_acc: 0.3750\n"
     ]
    },
    {
     "data": {
      "text/plain": [
       "<keras.callbacks.History at 0x113fa8518>"
      ]
     },
     "execution_count": 31,
     "metadata": {},
     "output_type": "execute_result"
    }
   ],
   "source": [
    "from keras.callbacks import ModelCheckpoint, CSVLogger\n",
    "\n",
    "batch_size = 4\n",
    "\n",
    "train_gen = generator(batch_size, train=True)\n",
    "val_gen = generator(1, train=False)\n",
    "\n",
    "checkpoint = ModelCheckpoint(filepath='models/model_best.h5', save_best_only=True, monitor='val_loss',\n",
    "                             save_weights_only=False)\n",
    "\n",
    "csv_logger = CSVLogger('logs/training.log')\n",
    "\n",
    "# Training with checkpoints for saving and logging results\n",
    "model.fit_generator(train_gen, steps_per_epoch=len(train_files)//batch_size,\n",
    "                    validation_data=val_gen, validation_steps=len(test_files),\n",
    "                    epochs=1, callbacks=[checkpoint, csv_logger])\n",
    "\n",
    "# NOTE: The results below are just for a sample dataset"
   ]
  },
  {
   "cell_type": "code",
   "execution_count": null,
   "metadata": {},
   "outputs": [],
   "source": [
    "# Save and load model\n",
    "model.save('models/model_final.h5')\n",
    "\n",
    "from keras.models import load_model\n",
    "model = load_model('models/model_best.h5')"
   ]
  }
 ],
 "metadata": {
  "kernelspec": {
   "display_name": "Python 3",
   "language": "python",
   "name": "python3"
  },
  "language_info": {
   "codemirror_mode": {
    "name": "ipython",
    "version": 3
   },
   "file_extension": ".py",
   "mimetype": "text/x-python",
   "name": "python",
   "nbconvert_exporter": "python",
   "pygments_lexer": "ipython3",
   "version": "3.6.5"
  }
 },
 "nbformat": 4,
 "nbformat_minor": 2
}
