{
 "cells": [
  {
   "cell_type": "markdown",
   "metadata": {},
   "source": [
    "## Deface Detector"
   ]
  },
  {
   "cell_type": "code",
   "execution_count": 181,
   "metadata": {},
   "outputs": [],
   "source": [
    "import cv2\n",
    "import numpy as np\n",
    "import os\n",
    "import nibabel as nib\n",
    "import matplotlib.pyplot as plt\n",
    "import random"
   ]
  },
  {
   "cell_type": "code",
   "execution_count": 182,
   "metadata": {},
   "outputs": [],
   "source": [
    "def read_mri_image(filename):\n",
    "    img = nib.load(filename)\n",
    "    return img.get_data()"
   ]
  },
  {
   "cell_type": "code",
   "execution_count": 197,
   "metadata": {},
   "outputs": [],
   "source": [
    "image_files = []\n",
    "\n",
    "def load_files(path):\n",
    "    if path.endswith('nii.gz'):\n",
    "#         print(path)\n",
    "        image_files.append(path)\n",
    "    elif os.path.isdir(path):\n",
    "        for file in os.listdir(path):\n",
    "            load_files(os.path.join(path,file))\n",
    "            \n"
   ]
  },
  {
   "cell_type": "code",
   "execution_count": 198,
   "metadata": {},
   "outputs": [
    {
     "name": "stdout",
     "output_type": "stream",
     "text": [
      "Total Number of Images : 38\n"
     ]
    }
   ],
   "source": [
    "path = '../mri_data/small_set'\n",
    "load_files(path)\n",
    "print('Total Number of Images :', len(image_files))"
   ]
  },
  {
   "cell_type": "code",
   "execution_count": 199,
   "metadata": {},
   "outputs": [
    {
     "name": "stdout",
     "output_type": "stream",
     "text": [
      "Number of train images : 30\n",
      "Number of test images : 8\n"
     ]
    }
   ],
   "source": [
    "random.shuffle(image_files)\n",
    "split = int(0.8*len(image_files))\n",
    "train_files, val_files = image_files[:split], image_files[split:]\n",
    "print('Number of train images :', len(train_files))\n",
    "print('Number of test images :', len(val_files))"
   ]
  },
  {
   "cell_type": "code",
   "execution_count": 186,
   "metadata": {},
   "outputs": [],
   "source": [
    "from keras import layers, models\n",
    "\n",
    "def Conv_BN_RELU(x, filters=32, kernel=3, strides=1, padding='same'):\n",
    "    x = layers.Conv2D(filters,kernel,strides=strides,padding=padding)(x)\n",
    "    x = layers.BatchNormalization()(x)\n",
    "    x = layers.Activation('relu')(x)\n",
    "    return x\n",
    "\n",
    "def create_submodel():\n",
    "    \n",
    "    inp = layers.Input(shape=(None,None,1))\n",
    "    \n",
    "    conv1 = Conv_BN_RELU(inp, filters=8, kernel=5, strides=4, padding='same')\n",
    "    \n",
    "    conv2 = Conv_BN_RELU(conv1, filters=16, kernel=3, strides=1, padding='same')\n",
    "    conv2 = Conv_BN_RELU(conv2, filters=16, kernel=2, strides=2, padding='same')\n",
    "\n",
    "    conv3 = Conv_BN_RELU(conv2, filters=32, kernel=3, strides=1, padding='same')\n",
    "    conv3 = Conv_BN_RELU(conv3, filters=32, kernel=2, strides=2, padding='same')\n",
    "\n",
    "    conv4 = Conv_BN_RELU(conv2, filters=64, kernel=3, strides=1, padding='same')\n",
    "    conv4 = Conv_BN_RELU(conv3, filters=64, kernel=2, strides=2, padding='same')\n",
    "    \n",
    "    out = layers.GlobalAveragePooling2D()(conv4)\n",
    "    \n",
    "    model = models.Model(inp,out)\n",
    "    \n",
    "    print(model.summary())\n",
    "    \n",
    "    return model\n",
    "    \n",
    "def create_model():\n",
    "    \n",
    "    inp1 = layers.Input(shape=(256,150,1), name='input_1')\n",
    "    inp2 = layers.Input(shape=(256,150,1), name='input_2')\n",
    "    inp3 = layers.Input(shape=(256,256,1), name='input_3')\n",
    "\n",
    "    submodel = create_submodel()\n",
    "    \n",
    "    one = submodel(inp1)\n",
    "    two = submodel(inp2)\n",
    "    three = submodel(inp3)\n",
    "    \n",
    "    concat = layers.Concatenate()([one,two,three])\n",
    "    out = layers.Dense(1,activation='sigmoid',name='output_node')(concat)\n",
    "\n",
    "    return models.Model(inputs=[inp1,inp2,inp3],outputs=out)"
   ]
  },
  {
   "cell_type": "code",
   "execution_count": 187,
   "metadata": {
    "scrolled": true
   },
   "outputs": [
    {
     "name": "stdout",
     "output_type": "stream",
     "text": [
      "_________________________________________________________________\n",
      "Layer (type)                 Output Shape              Param #   \n",
      "=================================================================\n",
      "input_8 (InputLayer)         (None, None, None, 1)     0         \n",
      "_________________________________________________________________\n",
      "conv2d_8 (Conv2D)            (None, None, None, 8)     208       \n",
      "_________________________________________________________________\n",
      "batch_normalization_8 (Batch (None, None, None, 8)     32        \n",
      "_________________________________________________________________\n",
      "activation_8 (Activation)    (None, None, None, 8)     0         \n",
      "_________________________________________________________________\n",
      "conv2d_9 (Conv2D)            (None, None, None, 16)    1168      \n",
      "_________________________________________________________________\n",
      "batch_normalization_9 (Batch (None, None, None, 16)    64        \n",
      "_________________________________________________________________\n",
      "activation_9 (Activation)    (None, None, None, 16)    0         \n",
      "_________________________________________________________________\n",
      "conv2d_10 (Conv2D)           (None, None, None, 16)    1040      \n",
      "_________________________________________________________________\n",
      "batch_normalization_10 (Batc (None, None, None, 16)    64        \n",
      "_________________________________________________________________\n",
      "activation_10 (Activation)   (None, None, None, 16)    0         \n",
      "_________________________________________________________________\n",
      "conv2d_11 (Conv2D)           (None, None, None, 32)    4640      \n",
      "_________________________________________________________________\n",
      "batch_normalization_11 (Batc (None, None, None, 32)    128       \n",
      "_________________________________________________________________\n",
      "activation_11 (Activation)   (None, None, None, 32)    0         \n",
      "_________________________________________________________________\n",
      "conv2d_12 (Conv2D)           (None, None, None, 32)    4128      \n",
      "_________________________________________________________________\n",
      "batch_normalization_12 (Batc (None, None, None, 32)    128       \n",
      "_________________________________________________________________\n",
      "activation_12 (Activation)   (None, None, None, 32)    0         \n",
      "_________________________________________________________________\n",
      "conv2d_14 (Conv2D)           (None, None, None, 64)    8256      \n",
      "_________________________________________________________________\n",
      "batch_normalization_14 (Batc (None, None, None, 64)    256       \n",
      "_________________________________________________________________\n",
      "activation_14 (Activation)   (None, None, None, 64)    0         \n",
      "_________________________________________________________________\n",
      "global_average_pooling2d_2 ( (None, 64)                0         \n",
      "=================================================================\n",
      "Total params: 20,112\n",
      "Trainable params: 19,776\n",
      "Non-trainable params: 336\n",
      "_________________________________________________________________\n",
      "None\n",
      "__________________________________________________________________________________________________\n",
      "Layer (type)                    Output Shape         Param #     Connected to                     \n",
      "==================================================================================================\n",
      "input_5 (InputLayer)            (None, 256, 150, 1)  0                                            \n",
      "__________________________________________________________________________________________________\n",
      "input_6 (InputLayer)            (None, 256, 150, 1)  0                                            \n",
      "__________________________________________________________________________________________________\n",
      "input_7 (InputLayer)            (None, 256, 256, 1)  0                                            \n",
      "__________________________________________________________________________________________________\n",
      "model_3 (Model)                 (None, 64)           20112       input_5[0][0]                    \n",
      "                                                                 input_6[0][0]                    \n",
      "                                                                 input_7[0][0]                    \n",
      "__________________________________________________________________________________________________\n",
      "concatenate_2 (Concatenate)     (None, 192)          0           model_3[1][0]                    \n",
      "                                                                 model_3[2][0]                    \n",
      "                                                                 model_3[3][0]                    \n",
      "__________________________________________________________________________________________________\n",
      "dense_2 (Dense)                 (None, 1)            193         concatenate_2[0][0]              \n",
      "==================================================================================================\n",
      "Total params: 20,305\n",
      "Trainable params: 19,969\n",
      "Non-trainable params: 336\n",
      "__________________________________________________________________________________________________\n",
      "None\n"
     ]
    }
   ],
   "source": [
    "model = create_model()\n",
    "model.compile(loss='binary_crossentropy', optimizer='adam', metrics=['accuracy'])\n",
    "print(model.summary())"
   ]
  },
  {
   "cell_type": "code",
   "execution_count": 188,
   "metadata": {},
   "outputs": [],
   "source": [
    "import imgaug as ia\n",
    "from imgaug import augmenters as iaa\n",
    "\n",
    "def augment(images):\n",
    "    \n",
    "    sometimes = lambda aug : iaa.Sometimes(0.8,aug)\n",
    "    \n",
    "    # The commented augmentations sometimes destroyed the image. Need to discuss which ones are appropriate here\n",
    "    \n",
    "    seq = iaa.Sequential([\n",
    "        sometimes(iaa.GaussianBlur(sigma=(0.0,3.0))),\n",
    "#         sometimes(iaa.ContrastNormalization((0.9,1.1))),\n",
    "#         sometimes(iaa.Multiply((0.95,1.05))),\n",
    "#         iaa.Sharpen(alpha=(0, 0.5), lightness=(0.9, 1.1)),\n",
    "        iaa.Fliplr(0.5),\n",
    "        iaa.Flipud(0.5),\n",
    "        \n",
    "        iaa.OneOf([\n",
    "            iaa.Affine(rotate=(90)),\n",
    "            iaa.Affine(rotate=(-90))\n",
    "        ])\n",
    "    ])\n",
    "    \n",
    "    seq_det = seq.to_deterministic()\n",
    "    aug_images = seq_det.augment_images(images)\n",
    "    \n",
    "    return aug_images"
   ]
  },
  {
   "cell_type": "code",
   "execution_count": 189,
   "metadata": {},
   "outputs": [],
   "source": [
    "def batch_read(image_files):\n",
    "    \n",
    "    dim_0 = list()\n",
    "    dim_1 = list()\n",
    "    dim_2 = list()\n",
    "    \n",
    "    batch_y = list()\n",
    "\n",
    "    for img_f in image_files:\n",
    "        \n",
    "        img = read_mri_image(img_f)\n",
    "        m0 = np.mean(img,axis=0)\n",
    "        m1 = np.mean(img,axis=1)\n",
    "        m2 = np.mean(img,axis=2)\n",
    "        dim_0.append(m0)\n",
    "        dim_1.append(m1)\n",
    "        dim_2.append(m2)\n",
    "       \n",
    "        if 'deface' in img_f:\n",
    "            batch_y.append(1)\n",
    "        else:\n",
    "            batch_y.append(0)\n",
    "        \n",
    "    dim_0 = augment(dim_0)\n",
    "    dim_1 = augment(dim_1)\n",
    "    dim_2 = augment(dim_2)\n",
    "            \n",
    "    dim_0 = np.expand_dims(dim_0,axis=3)\n",
    "    dim_1 = np.expand_dims(dim_1,axis=3)\n",
    "    dim_2 = np.expand_dims(dim_2,axis=3)\n",
    "            \n",
    "    return ([dim_0, dim_1, dim_2], np.array(batch_y))"
   ]
  },
  {
   "cell_type": "code",
   "execution_count": 190,
   "metadata": {},
   "outputs": [],
   "source": [
    "def generator(image_files, batch_size):\n",
    "    \n",
    "    while True:\n",
    "        \n",
    "        random.shuffle(image_files)\n",
    "        \n",
    "        for i in range(0, len(image_files), batch_size):\n",
    "            batch_image_files = image_files[i:i+batch_size]\n",
    "            \n",
    "            batch_x, batch_y = batch_read(batch_image_files)\n",
    "            \n",
    "            yield (batch_x,batch_y)"
   ]
  },
  {
   "cell_type": "code",
   "execution_count": 191,
   "metadata": {},
   "outputs": [
    {
     "data": {
      "image/png": "[encoded data removed]",
      "text/plain": [
       "<matplotlib.figure.Figure at 0x110e05be0>"
      ]
     },
     "metadata": {},
     "output_type": "display_data"
    },
    {
     "data": {
      "image/png": "[encoded data removed]",
      "text/plain": [
       "<matplotlib.figure.Figure at 0x125266470>"
      ]
     },
     "metadata": {},
     "output_type": "display_data"
    },
    {
     "data": {
      "image/png": "[encoded data removed]",
      "text/plain": [
       "<matplotlib.figure.Figure at 0x1062659b0>"
      ]
     },
     "metadata": {},
     "output_type": "display_data"
    }
   ],
   "source": [
    "# To check generator\n",
    "\n",
    "g = generator(image_files, 2)\n",
    "batch_x, batch_y = next(g)\n",
    "\n",
    "plt.imshow(np.squeeze(batch_x[0][0]), 'gray')\n",
    "plt.show()\n",
    "\n",
    "plt.imshow(np.squeeze(batch_x[1][0]), 'gray')\n",
    "plt.show()\n",
    "\n",
    "plt.imshow(np.squeeze(batch_x[2][0]), 'gray')\n",
    "plt.show()"
   ]
  },
  {
   "cell_type": "code",
   "execution_count": 193,
   "metadata": {},
   "outputs": [],
   "source": [
    "os.makedirs('models',exist_ok=True)"
   ]
  },
  {
   "cell_type": "code",
   "execution_count": 194,
   "metadata": {
    "scrolled": true
   },
   "outputs": [
    {
     "name": "stdout",
     "output_type": "stream",
     "text": [
      "Epoch 1/10\n",
      "7/7 [==============================] - 8s 1s/step - loss: 0.6656 - acc: 0.6071 - val_loss: 0.6443 - val_acc: 0.6250\n",
      "Epoch 2/10\n",
      "7/7 [==============================] - 7s 982ms/step - loss: 0.6326 - acc: 0.5721 - val_loss: 0.5441 - val_acc: 0.6250\n",
      "Epoch 3/10\n",
      "7/7 [==============================] - 6s 887ms/step - loss: 0.6244 - acc: 0.7163 - val_loss: 0.5585 - val_acc: 0.7500\n",
      "Epoch 4/10\n",
      "7/7 [==============================] - 6s 880ms/step - loss: 0.6515 - acc: 0.6442 - val_loss: 0.5300 - val_acc: 0.7500\n",
      "Epoch 5/10\n",
      "7/7 [==============================] - 6s 903ms/step - loss: 0.6600 - acc: 0.5361 - val_loss: 0.5998 - val_acc: 0.6250\n",
      "Epoch 6/10\n",
      "7/7 [==============================] - 6s 873ms/step - loss: 0.5972 - acc: 0.7115 - val_loss: 0.6444 - val_acc: 0.5000\n",
      "Epoch 7/10\n",
      "7/7 [==============================] - 6s 915ms/step - loss: 0.5394 - acc: 0.7837 - val_loss: 0.5374 - val_acc: 0.7500\n",
      "Epoch 8/10\n",
      "7/7 [==============================] - 6s 927ms/step - loss: 0.5856 - acc: 0.7837 - val_loss: 0.5147 - val_acc: 0.8750\n",
      "Epoch 9/10\n",
      "7/7 [==============================] - 7s 977ms/step - loss: 0.5053 - acc: 0.8571 - val_loss: 0.4929 - val_acc: 1.0000\n",
      "Epoch 10/10\n",
      "7/7 [==============================] - 6s 923ms/step - loss: 0.5628 - acc: 0.8558 - val_loss: 0.3985 - val_acc: 0.7500\n"
     ]
    },
    {
     "data": {
      "text/plain": [
       "<keras.callbacks.History at 0x12877e128>"
      ]
     },
     "execution_count": 194,
     "metadata": {},
     "output_type": "execute_result"
    }
   ],
   "source": [
    "from keras.callbacks import ModelCheckpoint\n",
    "\n",
    "batch_size = 4\n",
    "\n",
    "train_gen = generator(train_files, batch_size)\n",
    "val_gen = generator(val_files, batch_size)\n",
    "\n",
    "checkpoint = ModelCheckpoint(filepath='models/model_best.h5', save_best_only=True, monitor='val_loss',\n",
    "                             save_weights_only=False)\n",
    "\n",
    "model.fit_generator(train_gen, steps_per_epoch=len(train_files)//batch_size,\n",
    "                    validation_data=val_gen, validation_steps=len(val_files)//batch_size,\n",
    "                    epochs=10, callbacks=[checkpoint])"
   ]
  },
  {
   "cell_type": "code",
   "execution_count": 200,
   "metadata": {},
   "outputs": [],
   "source": [
    "model.save('models/final_model.h5')"
   ]
  },
  {
   "cell_type": "code",
   "execution_count": null,
   "metadata": {},
   "outputs": [],
   "source": [
    "from keras.models import load_model\n",
    "model = load_model('models/best_model.h5')"
   ]
  }
 ],
 "metadata": {
  "kernelspec": {
   "display_name": "Python 3",
   "language": "python",
   "name": "python3"
  },
  "language_info": {
   "codemirror_mode": {
    "name": "ipython",
    "version": 3
   },
   "file_extension": ".py",
   "mimetype": "text/x-python",
   "name": "python",
   "nbconvert_exporter": "python",
   "pygments_lexer": "ipython3",
   "version": "3.6.5"
  }
 },
 "nbformat": 4,
 "nbformat_minor": 2
}
